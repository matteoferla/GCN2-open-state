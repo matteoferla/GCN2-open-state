{
 "cells": [
  {
   "cell_type": "code",
   "execution_count": 1,
   "id": "8bebbb56-4135-4ab0-bd40-a4d716db29ee",
   "metadata": {},
   "outputs": [],
   "source": [
    "from filelock import FileLock"
   ]
  },
  {
   "cell_type": "code",
   "execution_count": 5,
   "id": "d82dff05-9f0f-4a98-9ea6-e22def0db417",
   "metadata": {},
   "outputs": [],
   "source": [
    "from pathlib import Path\n",
    "from typing import Dict\n",
    "\n",
    "for folder_path in Path('output').glob('*'):\n",
    "    if not folder_path.is_dir() or folder_path.name == '.ipynb_checkpoints':\n",
    "        continue\n",
    "    seq_path = folder_path / 'seqs'\n",
    "    assert seq_path.exists()\n",
    "    for path in seq_path.glob('*.fa'):\n",
    "        ..."
   ]
  },
  {
   "cell_type": "code",
   "execution_count": 6,
   "id": "31b51dc4-0243-4407-bc4f-71e754841053",
   "metadata": {},
   "outputs": [
    {
     "data": {
      "text/plain": [
       "PosixPath('output/linker_huge/seqs/linker_huge_5.fa')"
      ]
     },
     "execution_count": 6,
     "metadata": {},
     "output_type": "execute_result"
    }
   ],
   "source": [
    "for path in Path('output/hairpin/seqs').glob('*.fa'):\n",
    "    "
   ]
  },
  {
   "cell_type": "code",
   "execution_count": 66,
   "id": "6147c1b8-699a-46eb-9fbc-da9497de192f",
   "metadata": {},
   "outputs": [
    {
     "name": "stdout",
     "output_type": "stream",
     "text": [
      "6000\n"
     ]
    }
   ],
   "source": [
    "from pathlib import Path\n",
    "from typing import Dict\n",
    "\n",
    "\n",
    "def parse_fasta(path: Path) -> Dict[str, str]:\n",
    "    \"\"\"\n",
    "    read fasta seqs\n",
    "    \"\"\"\n",
    "    fastadex = {}\n",
    "    stem = path.stem\n",
    "    with path.open() as file:\n",
    "      indices = iter('ØABCDEF')\n",
    "      index = next(indices)\n",
    "      header = None\n",
    "      sequence = []\n",
    "    \n",
    "      for line in file:\n",
    "          if line.startswith('>'):\n",
    "              if header and sequence:\n",
    "                  fastadex[f\"{stem}_{index}\"] = ''.join(sequence).replace(\" \", \"\")\n",
    "                  index = next(indices)\n",
    "                  sequence = []\n",
    "              header = line.strip()\n",
    "          else:\n",
    "              sequence.append(line.strip())\n",
    "    \n",
    "      # Add the last sequence if the file ends without a new header\n",
    "      if header and sequence:\n",
    "          fastadex[f\"{stem}{index}\"] = ''.join(sequence).replace(\" \", \"\")\n",
    "    return fastadex\n",
    "\n",
    "fastadex = {}\n",
    "for path in Path('output/hairpin/seqs').glob('*.fa'):\n",
    "    fastadex.update( parse_fasta(path) )\n",
    "\n",
    "print(len(fastadex))"
   ]
  },
  {
   "cell_type": "code",
   "execution_count": 67,
   "id": "f4ddf1fb-7270-4d57-8301-8167086a3165",
   "metadata": {},
   "outputs": [],
   "source": [
    "import pandas as pd\n",
    "\n",
    "fore = 'SRYFIEFEELQLLGKGAFGAVIKVQNKLDGCCYAVKRIPINPASRQFRRIKGEVTLLSRLHHENIVRYYNAWIE'\n",
    "aft  = 'YLYIQMEYCEASTLRDTIDQGLYRDTVRLWRLFREILDGLAYIHEKGMIHRNLKPVNIFLDSDDHVKIGQKVDLFSLGIIFFEMSYHPMVTASERIFVLNQLRDPTSPKFPEDFDDGEHAKQKSVISWLLNHDPAKRPTATELLKSELLPPP'\n",
    "\n",
    "df = pd.DataFrame({'Name': fastadex.keys(), 'seq': fastadex.values()}).sort_values('Name').copy()\n",
    "df['ins'] = df.seq.str.replace(fore, '').str.replace(aft, '')"
   ]
  },
  {
   "cell_type": "code",
   "execution_count": 23,
   "id": "6b479f0d-444a-47a8-8abc-4f7895958107",
   "metadata": {},
   "outputs": [],
   "source": [
    "import sys\n",
    "\n",
    "#sys.path.append('/opt/xchem-fragalysis-2/mferla/crysalin-redux/repo/code')\n",
    "import thread_tune_v2 as tt"
   ]
  },
  {
   "cell_type": "code",
   "execution_count": 34,
   "id": "8a1a9d09-9a2f-4129-93c1-3145b733212a",
   "metadata": {
    "scrolled": true
   },
   "outputs": [
    {
     "data": {
      "text/plain": [
       "ins\n",
       "DG       1254\n",
       "EEEG      380\n",
       "PSG       344\n",
       "GG        279\n",
       "EETG      244\n",
       "GGGGG     243\n",
       "GGGG      241\n",
       "DDG       240\n",
       "GGG       238\n",
       "EESG      166\n",
       "Name: count, dtype: int64"
      ]
     },
     "execution_count": 34,
     "metadata": {},
     "output_type": "execute_result"
    }
   ],
   "source": [
    "df.ins.value_counts().head(10)"
   ]
  },
  {
   "cell_type": "code",
   "execution_count": 39,
   "id": "b1a5cd8a-6e79-4296-806e-2773ca49b27c",
   "metadata": {},
   "outputs": [],
   "source": [
    "top_ins = 'DG'\n",
    "row = df.loc[df.ins == top_ins].iloc[0]\n",
    "target_name = row.Name\n",
    "target_sequence = row.seq"
   ]
  },
  {
   "cell_type": "code",
   "execution_count": 138,
   "id": "4dc82787-0140-460a-b8fb-a15a853bfe3c",
   "metadata": {},
   "outputs": [],
   "source": []
  },
  {
   "cell_type": "code",
   "execution_count": null,
   "id": "3840c2f8-c126-4db8-8bf0-c9d119fca73f",
   "metadata": {},
   "outputs": [],
   "source": [
    "SETTINGS['start_seqs'] = ['SRYFIEF']\n",
    "SETTINGS['chain_letters'] = 'A'\n",
    "\n",
    "result = run_process(target_folder=Path('output/hairpin'),\n",
    "                          target_name=target_name,\n",
    "                          target_sequence=target_sequence,\n",
    "                          hallucination_name=target_name[:-2],\n",
    "                          parent_filename=Path('6N3O_relaxed_trimmed.pdb'),\n",
    "                          metadata={},\n",
    "                          override=True,\n",
    "                          )\n",
    "print(result)\n",
    "print('\\n'.join(result['traceback']))"
   ]
  },
  {
   "cell_type": "code",
   "execution_count": null,
   "id": "6269964e-072d-4555-92ea-4076826aba4f",
   "metadata": {},
   "outputs": [],
   "source": []
  },
  {
   "cell_type": "code",
   "execution_count": 103,
   "id": "1403f437-0b49-4537-9778-24885b58b620",
   "metadata": {},
   "outputs": [],
   "source": [
    "!cp output/hairpin/hairpin_0.pdb copies/hairpin_0.pdb"
   ]
  },
  {
   "cell_type": "code",
   "execution_count": 102,
   "id": "0df7a4b8-56bc-44cc-8296-48ebef2a4225",
   "metadata": {},
   "outputs": [],
   "source": [
    "!echo 'THESE_ARE_TEMP' >> copies/THESE_ARE_TEMP"
   ]
  },
  {
   "cell_type": "code",
   "execution_count": 123,
   "id": "ab80dc2b-5859-49b7-9bf8-1cbe6e097219",
   "metadata": {},
   "outputs": [],
   "source": [
    "!rm output/hairpin/log.jsonl"
   ]
  },
  {
   "cell_type": "code",
   "execution_count": 73,
   "id": "dcbaad8a-054c-4e99-bb30-bf82f5dd9108",
   "metadata": {},
   "outputs": [],
   "source": [
    "import pickle\n",
    "\n",
    "with open('output/hairpin/hairpin_0.trb', 'rb') as fh:\n",
    "    trb = pickle.load(fh)\n",
    "trb['complex_con_ref_idx0'] = trb['con_ref_idx0']\n",
    "trb['complex_con_hal_idx0'] = trb['con_hal_idx0']\n",
    "with open('output/hairpin/hairpin_0.trb', 'wb') as fh:\n",
    "    pickle.dump(trb, fh)"
   ]
  },
  {
   "cell_type": "code",
   "execution_count": 106,
   "id": "9d078ca4-d19b-4132-b83e-4fc905e1e24d",
   "metadata": {},
   "outputs": [],
   "source": [
    "pose = pyrosetta.pose_from_file('output/hairpin/hairpin_0.pdb')"
   ]
  },
  {
   "cell_type": "code",
   "execution_count": 122,
   "id": "db374362-3961-481f-986f-edc88167adee",
   "metadata": {
    "scrolled": true
   },
   "outputs": [],
   "source": [
    "def appraise_itxns(pose,\n",
    "                   max_clashes=0,\n",
    "                   clash_dist_cutoff=1.5,\n",
    "                   bond_dist_cutoff=1.7,\n",
    "                   trb: Optional[Dict[str, Any]] = None\n",
    "                   ) -> Tuple[int, int]:\n",
    "    \"\"\"\n",
    "    Assumes the chains have been fixed already.\n",
    "    if `trb` is not None, the reference is used to check only stretching in the designed bits.\n",
    "    NB. if the PDB had a gap and no trb is passed, it will be considered a stretch!\n",
    "\n",
    "    :param pose:\n",
    "    :param max_clashes:\n",
    "    :param clash_dist_cutoff:\n",
    "    :param bond_dist_cutoff:\n",
    "    :param trb:\n",
    "    :return:\n",
    "    \"\"\"\n",
    "    n_clashing = 0\n",
    "    chains = pose.split_by_chain()\n",
    "    xyz_model = extract_coords(chains[1])\n",
    "    for idx0 in range(1, pose.num_chains()):  # chain 0 is the full AHIR, designed\n",
    "        xyz_other = extract_coords(chains[idx0 + 1])\n",
    "        distances = np.sqrt(np.sum((xyz_other[:, np.newaxis, :] - xyz_model[np.newaxis, :, :]) ** 2, axis=-1))\n",
    "        # 1.5 Å is too close\n",
    "        n_clashing += np.count_nonzero(distances < clash_dist_cutoff)\n",
    "    if n_clashing > max_clashes:\n",
    "        raise ValueError(f'{n_clashing} clashes')\n",
    "    # check no stretch\n",
    "    n_warning_stretch = 0\n",
    "    if trb is None:\n",
    "        termini = [pose.chain_begin(c+1) for c in range(pose.num_chains())] + \\\n",
    "                  [pose.chain_end(c+1) for c in range(pose.num_chains())]\n",
    "        # I could be doing pose.residue(i).is_terminus() but that is a needless amount of calls\n",
    "        indices1 = [idx0+1 for idx0 in range(pose.total_residue() - 1) if idx0+1 not in termini]\n",
    "    else:\n",
    "        # get the not conserved and the preceding residue (unless it is the first)\n",
    "        indices1 = [idx0 + 1 for idx0, conned in enumerate(trb['inpaint_seq']) if not conned] + \\\n",
    "                   [idx0 for idx0, conned in enumerate(trb['inpaint_seq']) if not conned if idx0 != 0]\n",
    "        indices1 = list(set(indices1))\n",
    "    for idx1 in indices1:\n",
    "        d: float = pose.residue(idx1).xyz('C').distance(pose.residue(idx1 + 1).xyz('N'))\n",
    "        if d > bond_dist_cutoff:\n",
    "            raise ValueError(f'Stretch {d:.1}')\n",
    "        if d > 1.36:\n",
    "            n_warning_stretch += 1\n",
    "\n",
    "tt.appraise_itxns = appraise_itxns"
   ]
  },
  {
   "cell_type": "code",
   "execution_count": null,
   "id": "70aecea1-bc42-4a2d-bbb8-c19250d7a209",
   "metadata": {},
   "outputs": [],
   "source": [
    "target_folder = Path('output/hairpin/seqs')\n",
    "parent_filename:Path('')\n",
    "timeout = 60 * 60\n",
    "seq_paths = [se]\n",
    "    futures: List[ProcessFuture] = []\n",
    "    future_names: List[str] = []\n",
    "    with ProcessPool(max_workers=get_max_cores() - 1, max_tasks=0) as pool:\n",
    "        # queue jobs\n",
    "        for path in seq_paths:\n",
    "            # send each seq to the pool\n",
    "            for seq_record in SeqIO.parse(path, 'fasta'):\n",
    "                # ## Read metadata\n",
    "                metadata = {k: float(v) for k, v in re.findall(r'([\\w_]+)=([\\d.]+)', seq_record.description)}\n",
    "                hallucination_name: str = path.stem  # noqa\n",
    "                target_sequence: str = str(seq_record.seq) # noqa\n",
    "                target_name = f\"{hallucination_name}{'ABCDEFGHIJKLMNOPQRSTUVWXYZØ'[int(metadata.get('sample', -1))]}\"\n",
    "                future: ProcessFuture = pool.schedule(run_process,\n",
    "                                                      # target = seq-variant of hallucination\n",
    "                                                      # parent = WT template\n",
    "                                                      # hallucination = RFdiffused skeleton\n",
    "                                                      kwargs=dict(target_folder=target_folder,\n",
    "                                                                  target_name=target_name,\n",
    "                                                                  target_sequence=target_sequence,\n",
    "                                                                  hallucination_name=hallucination_name,\n",
    "                                                                  parent_filename=parent_filename,\n",
    "                                                                  metadata=metadata,\n",
    "                                                                  ),\n",
    "                                                      timeout=timeout)\n",
    "\n",
    "                future_names.append(target_name)\n",
    "                futures.append(future)\n",
    "        print(f'Submitted {len(futures)} processes')\n",
    "        # ## Get results\n",
    "        results: List[dict] = []\n",
    "        for name, future in zip(future_names, futures):\n",
    "            try:\n",
    "                result = future.result()  # blocks until results are ready\n",
    "                print(result['name'], result['status'])\n",
    "                results.append(result)\n",
    "            except Exception as error:\n",
    "                error_msg = str(error)\n",
    "                result = dict(target_name=name, error=str(error), error_type=error.__class__.__name__,)\n",
    "                results.append(result)\n",
    "                if isinstance(error, TimeoutError):\n",
    "                    print(f'Function took longer than {timeout} seconds {error}')\n",
    "                else:\n",
    "                    print(f\"Function raised {error}\")\n",
    "                    traceback.print_tb(error.__traceback__)  # traceback of the function\n",
    "    df = pd.DataFrame(results)\n",
    "    df.to_pickle(target_folder / 'tuned.pkl.gz')\n",
    "    return df"
   ]
  },
  {
   "cell_type": "code",
   "execution_count": 96,
   "id": "6de5f106-8feb-4942-8ae5-52473d522bcb",
   "metadata": {},
   "outputs": [],
   "source": [
    "common_pyrosetta.steal_frozen = steal_frozen"
   ]
  },
  {
   "cell_type": "code",
   "execution_count": null,
   "id": "98617cba-1a4a-4ae4-8724-edc760c04d6a",
   "metadata": {},
   "outputs": [],
   "source": [
    "tt.steal_frozen = stea"
   ]
  },
  {
   "cell_type": "code",
   "execution_count": 153,
   "id": "c7a83c17-0da4-4833-89c0-27fa3653788f",
   "metadata": {},
   "outputs": [
    {
     "name": "stdout",
     "output_type": "stream",
     "text": [
      "27408.372480047885 88012.67651372956\n",
      "29644.28177443537 90385.22366141704\n"
     ]
    }
   ],
   "source": [
    "cycles = 1\n",
    "scorefxn_cart = pyrosetta.create_score_function('ref2015_cart')\n",
    "assert scorefxn_cart.get_weight(pr_scoring.ScoreType.cart_bonded) > 0., 'Cartesian required'\n",
    "scorefxn = pyrosetta.create_score_function('ref2015')\n",
    "print(scorefxn(pose), scorefxn_cart(pose) )\n",
    "relax = prp.relax.FastRelax(scorefxn_cart, cycles)\n",
    "relax.cartesian(True)\n",
    "relax.minimize_bond_angles(True)\n",
    "relax.minimize_bond_lengths(True)\n",
    "relax.apply(pose)\n",
    "print(scorefxn(pose), scorefxn_cart(pose) )"
   ]
  },
  {
   "cell_type": "code",
   "execution_count": null,
   "id": "34e44f4b-e6d8-4657-8e64-a29c34d4f685",
   "metadata": {},
   "outputs": [],
   "source": [
    "cart_bonded to 0.5 and pro_close 0.0\n",
    "\n"
   ]
  },
  {
   "cell_type": "code",
   "execution_count": null,
   "id": "dcf267d8-415c-442f-97c5-f8268606d32b",
   "metadata": {},
   "outputs": [],
   "source": [
    "pose = pyrosetta.pose_from_file('output/hairpin/hairpin_0.pdb')\n",
    "\n",
    "    for chain in chains:\n",
    "        for i in range(chain.total_residue() - 1):\n",
    "            d: float = chain.residue(i + 1).xyz('C').distance(chain.residue(i + 1 + 1).xyz('N'))\n",
    "            if d > bond_dist_cutoff:\n",
    "                raise ValueError(f'Stretch {d:.1}')\n",
    "            if d > 1.36:\n",
    "                n_warning_stretch += 1"
   ]
  },
  {
   "cell_type": "code",
   "execution_count": null,
   "id": "049df51f-335f-46dc-baed-cc8aa9a35fed",
   "metadata": {},
   "outputs": [],
   "source": [
    "    for chain in chains:\n",
    "        for i in range(chain.total_residue() - 1):\n",
    "            d: float = chain.residue(i + 1).xyz('C').distance(chain.residue(i + 1 + 1).xyz('N'))\n",
    "            if d > bond_dist_cutoff:\n",
    "                raise ValueError(f'Stretch {d:.1}')\n",
    "            if d > 1.36:\n",
    "                n_warning_stretch += 1"
   ]
  }
 ],
 "metadata": {
  "kernelspec": {
   "display_name": "Python [conda env:base] *",
   "language": "python",
   "name": "conda-base-py"
  },
  "language_info": {
   "codemirror_mode": {
    "name": "ipython",
    "version": 3
   },
   "file_extension": ".py",
   "mimetype": "text/x-python",
   "name": "python",
   "nbconvert_exporter": "python",
   "pygments_lexer": "ipython3",
   "version": "3.11.10"
  }
 },
 "nbformat": 4,
 "nbformat_minor": 5
}
